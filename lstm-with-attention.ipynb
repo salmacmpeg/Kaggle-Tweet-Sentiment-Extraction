{
 "cells": [
  {
   "cell_type": "code",
   "execution_count": 1,
   "metadata": {
    "_cell_guid": "f8dc566c-bb0f-42d4-bbeb-a85977e8d9d8",
    "_uuid": "35b637ff-897b-4a87-9265-dc70b219adcd"
   },
   "outputs": [
    {
     "name": "stderr",
     "output_type": "stream",
     "text": [
      "Using TensorFlow backend.\n"
     ]
    },
    {
     "data": {
      "text/plain": [
       "'/device:GPU:0'"
      ]
     },
     "execution_count": 1,
     "metadata": {},
     "output_type": "execute_result"
    }
   ],
   "source": [
    "import csv\n",
    "import sys\n",
    "import cv2\n",
    "import os\n",
    "import random\n",
    "import re\n",
    "import nltk\n",
    "import pickle\n",
    "import numpy as np\n",
    "import pandas as pd\n",
    "import tensorflow as tf\n",
    "from numpy import array\n",
    "from numpy import asarray\n",
    "from numpy import zeros\n",
    "from nltk.corpus import stopwords\n",
    "import matplotlib.pyplot as plt\n",
    "import seaborn as sns\n",
    "from collections import defaultdict\n",
    "from keras import backend as keras\n",
    "from keras.models import *\n",
    "from keras.layers import *\n",
    "from keras.optimizers import *\n",
    "from tensorflow.keras.callbacks import ModelCheckpoint\n",
    "from tensorflow.keras.callbacks import CSVLogger\n",
    "from tensorflow.keras.callbacks import EarlyStopping\n",
    "from tensorflow.keras.optimizers import Adam\n",
    "from tensorflow.keras.models import Sequential\n",
    "from tensorflow.keras.layers import Activation, Dropout, Flatten, Dense, Conv2D, MaxPooling2D,Embedding,LSTM\n",
    "from keras.callbacks import ModelCheckpoint, LearningRateScheduler\n",
    "from keras.preprocessing.text import one_hot\n",
    "from keras.preprocessing.sequence import pad_sequences\n",
    "from keras.layers import GlobalMaxPooling1D\n",
    "from sklearn.model_selection import train_test_split\n",
    "from keras.preprocessing.text import Tokenizer\n",
    "from keras.utils import to_categorical\n",
    "from tensorflow.keras.layers import Embedding\n",
    "from tensorflow.keras.layers  import Bidirectional\n",
    "\n",
    "tf.test.gpu_device_name()"
   ]
  },
  {
   "cell_type": "code",
   "execution_count": 2,
   "metadata": {},
   "outputs": [
    {
     "name": "stdout",
     "output_type": "stream",
     "text": [
      "Processing /kaggle/input/wheeel/keras_self_attention-0.46.0-py3-none-any.whl\r\n",
      "Requirement already satisfied: numpy in /opt/conda/lib/python3.7/site-packages (from keras-self-attention==0.46.0) (1.18.1)\r\n",
      "Requirement already satisfied: Keras in /opt/conda/lib/python3.7/site-packages (from keras-self-attention==0.46.0) (2.3.1)\r\n",
      "Requirement already satisfied: six>=1.9.0 in /opt/conda/lib/python3.7/site-packages (from Keras->keras-self-attention==0.46.0) (1.14.0)\r\n",
      "Requirement already satisfied: scipy>=0.14 in /opt/conda/lib/python3.7/site-packages (from Keras->keras-self-attention==0.46.0) (1.4.1)\r\n",
      "Requirement already satisfied: keras-preprocessing>=1.0.5 in /opt/conda/lib/python3.7/site-packages (from Keras->keras-self-attention==0.46.0) (1.1.0)\r\n",
      "Requirement already satisfied: keras-applications>=1.0.6 in /opt/conda/lib/python3.7/site-packages (from Keras->keras-self-attention==0.46.0) (1.0.8)\r\n",
      "Requirement already satisfied: h5py in /opt/conda/lib/python3.7/site-packages (from Keras->keras-self-attention==0.46.0) (2.10.0)\r\n",
      "Requirement already satisfied: pyyaml in /opt/conda/lib/python3.7/site-packages (from Keras->keras-self-attention==0.46.0) (5.3.1)\r\n",
      "Installing collected packages: keras-self-attention\r\n",
      "Successfully installed keras-self-attention-0.46.0\r\n"
     ]
    }
   ],
   "source": [
    "!pip install '/kaggle/input/wheeel/keras_self_attention-0.46.0-py3-none-any.whl'"
   ]
  },
  {
   "cell_type": "code",
   "execution_count": 3,
   "metadata": {},
   "outputs": [],
   "source": [
    "#!pip install keras-self-attention"
   ]
  },
  {
   "cell_type": "code",
   "execution_count": 4,
   "metadata": {},
   "outputs": [],
   "source": [
    "#!ls /root/.cache/pip/wheels/ec/f7/48/30de93f8333298bad9202aab9b04db0cfd58dcd379b5a5ef1c"
   ]
  },
  {
   "cell_type": "code",
   "execution_count": 5,
   "metadata": {},
   "outputs": [],
   "source": [
    "#!mv /root/.cache/pip/wheels/ec/f7/48/30de93f8333298bad9202aab9b04db0cfd58dcd379b5a5ef1c/* /kaggle/working/"
   ]
  },
  {
   "cell_type": "code",
   "execution_count": 6,
   "metadata": {},
   "outputs": [],
   "source": [
    "#!ls"
   ]
  },
  {
   "cell_type": "code",
   "execution_count": 7,
   "metadata": {},
   "outputs": [],
   "source": [
    "from keras_self_attention import SeqSelfAttention"
   ]
  },
  {
   "cell_type": "code",
   "execution_count": 8,
   "metadata": {
    "_cell_guid": "91d5e558-416e-41f0-84f5-9665277581d0",
    "_uuid": "e2e42e51-092d-4a03-87c8-c9089ce12df5"
   },
   "outputs": [
    {
     "name": "stdout",
     "output_type": "stream",
     "text": [
      "/kaggle/input/tweet-sentiment-extraction/sample_submission.csv\n",
      "/kaggle/input/tweet-sentiment-extraction/test.csv\n",
      "/kaggle/input/tweet-sentiment-extraction/train.csv\n",
      "/kaggle/input/wheeel/keras_self_attention-0.46.0-py3-none-any.whl\n",
      "/kaggle/input/glove-global-vectors-for-word-representation/glove.twitter.27B.100d.txt\n",
      "/kaggle/input/glove-global-vectors-for-word-representation/glove.twitter.27B.50d.txt\n",
      "/kaggle/input/glove-global-vectors-for-word-representation/glove.twitter.27B.200d.txt\n",
      "/kaggle/input/glove-global-vectors-for-word-representation/glove.twitter.27B.25d.txt\n",
      "/kaggle/input/glove6b/glove.6B.300d.txt\n",
      "/kaggle/input/glove6b/glove.6B.100d.txt\n",
      "/kaggle/input/glove6b/glove.6B.50d.txt\n",
      "/kaggle/input/glove6b/glove.6B.200d.txt\n"
     ]
    }
   ],
   "source": [
    "# This Python 3 environment comes with many helpful analytics libraries installed\n",
    "# It is defined by the kaggle/python Docker image: https://github.com/kaggle/docker-python\n",
    "# For example, here's several helpful packages to load\n",
    "\n",
    "import numpy as np # linear algebra\n",
    "import pandas as pd # data processing, CSV file I/O (e.g. pd.read_csv)\n",
    "\n",
    "# Input data files are available in the read-only \"../input/\" directory\n",
    "# For example, running this (by clicking run or pressing Shift+Enter) will list all files under the input directory\n",
    "\n",
    "import os\n",
    "ddir=[]\n",
    "for dirname, _, filenames in os.walk('/kaggle/input'):\n",
    "    for filename in filenames:\n",
    "        print(os.path.join(dirname, filename))\n",
    "        ddir.append(os.path.join(dirname, filename))\n",
    "\n",
    "# You can write up to 5GB to the current directory (/kaggle/working/) that gets preserved as output when you create a version using \"Save & Run All\" \n",
    "# You can also write temporary files to /kaggle/temp/, but they won't be saved outside of the current session"
   ]
  },
  {
   "cell_type": "code",
   "execution_count": 9,
   "metadata": {
    "_cell_guid": "674b38d5-1f1c-4fda-9a45-887dafb5c631",
    "_uuid": "148f2444-ce41-4477-a4d3-f21c8af4e046"
   },
   "outputs": [
    {
     "data": {
      "text/plain": [
       "['/kaggle/input/tweet-sentiment-extraction/sample_submission.csv',\n",
       " '/kaggle/input/tweet-sentiment-extraction/test.csv',\n",
       " '/kaggle/input/tweet-sentiment-extraction/train.csv',\n",
       " '/kaggle/input/wheeel/keras_self_attention-0.46.0-py3-none-any.whl',\n",
       " '/kaggle/input/glove-global-vectors-for-word-representation/glove.twitter.27B.100d.txt',\n",
       " '/kaggle/input/glove-global-vectors-for-word-representation/glove.twitter.27B.50d.txt',\n",
       " '/kaggle/input/glove-global-vectors-for-word-representation/glove.twitter.27B.200d.txt',\n",
       " '/kaggle/input/glove-global-vectors-for-word-representation/glove.twitter.27B.25d.txt',\n",
       " '/kaggle/input/glove6b/glove.6B.300d.txt',\n",
       " '/kaggle/input/glove6b/glove.6B.100d.txt',\n",
       " '/kaggle/input/glove6b/glove.6B.50d.txt',\n",
       " '/kaggle/input/glove6b/glove.6B.200d.txt']"
      ]
     },
     "execution_count": 9,
     "metadata": {},
     "output_type": "execute_result"
    }
   ],
   "source": [
    "ddir"
   ]
  },
  {
   "cell_type": "code",
   "execution_count": 10,
   "metadata": {
    "_cell_guid": "196c18e6-454f-4140-921e-c0aba661bfa0",
    "_uuid": "be891d96-8a53-4ea6-90da-39e3a3b2b5a2"
   },
   "outputs": [],
   "source": [
    "def preprocess_train(train):\n",
    "  #preprocessing for the train dataset\n",
    "  train['text'] = train['text'].fillna('')\n",
    "  train['selected_text'] = train['selected_text'].fillna('')\n",
    "  train['sentiment']=train['sentiment'].replace('neutral',0)\n",
    "  train['sentiment']=train['sentiment'].replace('positive',1)\n",
    "  train['sentiment']=train['sentiment'].replace('negative',1)\n",
    "  #sns.countplot(x='sentiment', data=train)\n",
    "  #plt.show()\n",
    "  return train\n",
    "def preprocess_test(test):\n",
    "  #preprocessing for the train dataset\n",
    "  test['text'] = test['text'].fillna('')\n",
    "  test['sentiment']=test['sentiment'].replace('neutral',0)\n",
    "  test['sentiment']=test['sentiment'].replace('positive',1)\n",
    "  test['sentiment']=test['sentiment'].replace('negative',1)\n",
    "  #sns.countplot(x='sentiment', data=test)\n",
    "  #plt.show()\n",
    "  return test"
   ]
  },
  {
   "cell_type": "code",
   "execution_count": 11,
   "metadata": {
    "_cell_guid": "0254fe0b-a82e-4cd3-b0d3-ff6c05a9bb87",
    "_uuid": "304abf6b-22bf-4ae3-8756-08d312842da0"
   },
   "outputs": [],
   "source": [
    "def embed(tokenizer):\n",
    "  embeddings_dictionary = dict()\n",
    "  glove_file = open('/kaggle/input/glove-global-vectors-for-word-representation/glove.twitter.27B.100d.txt', encoding=\"utf8\")\n",
    "\n",
    "  for line in glove_file:\n",
    "      records = line.split()\n",
    "      word = records[0]\n",
    "      vector_dimensions = asarray(records[1:], dtype='float32')\n",
    "      embeddings_dictionary [word] = vector_dimensions\n",
    "  glove_file.close()\n",
    "\n",
    "  #embeddings_dictionary\n",
    "  embedding_matrix = zeros((vocab_size, 100))\n",
    "  for word, index in tokenizer.word_index.items():\n",
    "      embedding_vector = embeddings_dictionary.get(word)\n",
    "      if embedding_vector is not None:\n",
    "          embedding_matrix[index] = embedding_vector\n",
    "  return embedding_matrix\n"
   ]
  },
  {
   "cell_type": "code",
   "execution_count": 12,
   "metadata": {},
   "outputs": [],
   "source": [
    "#analysing\n",
    "train_original=pd.read_csv('/kaggle/input/tweet-sentiment-extraction/train.csv')\n",
    "train_original=preprocess_train(train_original)\n",
    "\n",
    "test_original=pd.read_csv('/kaggle/input/tweet-sentiment-extraction/test.csv')\n",
    "test_original=preprocess_test(test_original)"
   ]
  },
  {
   "cell_type": "code",
   "execution_count": 13,
   "metadata": {},
   "outputs": [],
   "source": [
    "tokenizer = Tokenizer(num_words=500000,filters='')\n",
    "tokenizer.fit_on_texts(train_original['text'])\n",
    "maxlen=35\n",
    "train_original['Text_Sequences'] = pd.Series(tokenizer.texts_to_sequences(train_original['text']))\n",
    "train_original['Text_Sequences_padded']  = pad_sequences(train_original['Text_Sequences'] , padding='post', maxlen=maxlen).tolist()\n",
    "\n",
    "test_original['Text_Sequences'] = pd.Series(tokenizer.texts_to_sequences(test_original['text']))\n",
    "test_original['Text_Sequences_padded']  = pad_sequences(test_original['Text_Sequences'] , padding='post', maxlen=maxlen).tolist()\n",
    "\n",
    "train_original['Selected_Text_Sequences']=pd.Series(tokenizer.texts_to_sequences(train_original['selected_text']))\n",
    "train_original['Selected_Text_Sequences_padded'] = pad_sequences(train_original['Selected_Text_Sequences'], padding='post', maxlen=maxlen).tolist()\n",
    "\n",
    "Y_train_per_word=np.zeros((train_original['Text_Sequences_padded'].shape[0],maxlen))\n",
    "idx=0\n",
    "for sentence in train_original['Text_Sequences_padded']:\n",
    "  idx2=0\n",
    "  for word in sentence:\n",
    "    #print(word)\n",
    "    if (word != 0) and (train_original['sentiment'][idx]!=0):\n",
    "      if (word==train_original['Text_Sequences_padded'][idx][idx2]):\n",
    "        Y_train_per_word[idx][idx2]= train_original['sentiment'][idx]\n",
    "        idx2=idx2+1\n",
    "  idx=idx+1\n",
    "train_original['Y_labeled']=Y_train_per_word.tolist()\n",
    "#train_original['jaccard_distance']=jaccard_score(train_original['Text_Sequences_padded'],train_original['Selected_Text_Sequences_padded'])"
   ]
  },
  {
   "cell_type": "code",
   "execution_count": 14,
   "metadata": {},
   "outputs": [],
   "source": [
    "X_train_temp=(train_original[train_original['sentiment']!=0]['Text_Sequences_padded'])\n",
    "X_train=np.array([np.array(xi) for xi in X_train_temp])\n",
    "Y_train_temp=train_original[train_original['sentiment']!=0]['Y_labeled']\n",
    "Y_train=np.array([np.array(xi) for xi in Y_train_temp])"
   ]
  },
  {
   "cell_type": "code",
   "execution_count": 15,
   "metadata": {},
   "outputs": [],
   "source": [
    "vocab_size = len(tokenizer.word_index) + 1\n",
    "embedding_matrix=embed(tokenizer)"
   ]
  },
  {
   "cell_type": "code",
   "execution_count": 16,
   "metadata": {},
   "outputs": [],
   "source": [
    "def jaccard_distance(y_true, y_pred, smooth=100):\n",
    "    \"\"\" Calculates mean of Jaccard distance as a loss function \"\"\"\n",
    "    intersection = tf.reduce_sum(y_true * y_pred, axis=(1))\n",
    "    sum_ = tf.reduce_sum(y_true + y_pred, axis=(1))\n",
    "    jac = (intersection + smooth) / (sum_ - intersection + smooth)\n",
    "    jd =  (1 - jac) * smooth\n",
    "    return tf.reduce_mean(jd)"
   ]
  },
  {
   "cell_type": "code",
   "execution_count": 17,
   "metadata": {},
   "outputs": [],
   "source": [
    "def jaccard_score(y_true, y_pred, smooth=100):\n",
    "    \"\"\" Calculates mean of Jaccard distance as a loss function \"\"\"\n",
    "    arr1=np.array([np.array(xi) for xi in y_true])\n",
    "    arr1=(arr1>0).astype('int')\n",
    "    arr2=np.array([np.array(xi) for xi in y_pred])\n",
    "    arr2=(arr2>0).astype('int')\n",
    "    intersection = np.sum(np.multiply(arr1 , arr2), axis=(1))\n",
    "    sum_ =np.sum(arr1,axis=1)+np.sum(arr2,axis=1)\n",
    "    jac = (intersection + smooth) / (sum_ - intersection + smooth) #score\n",
    "    jd =  (1 - jac) * smooth #distance\n",
    "    return (jd)"
   ]
  },
  {
   "cell_type": "code",
   "execution_count": 18,
   "metadata": {},
   "outputs": [
    {
     "name": "stdout",
     "output_type": "stream",
     "text": [
      "Model: \"sequential_1\"\n",
      "_________________________________________________________________\n",
      "Layer (type)                 Output Shape              Param #   \n",
      "=================================================================\n",
      "embedding_1 (Embedding)      (None, 35, 100)           4543100   \n",
      "_________________________________________________________________\n",
      "dropout_1 (Dropout)          (None, 35, 100)           0         \n",
      "_________________________________________________________________\n",
      "dense_1 (Dense)              (None, 35, 35)            3535      \n",
      "_________________________________________________________________\n",
      "lstm_1 (LSTM)                (None, 35, 128)           83968     \n",
      "_________________________________________________________________\n",
      "seq_self_attention_1 (SeqSel (None, 35, 128)           8257      \n",
      "_________________________________________________________________\n",
      "dropout_2 (Dropout)          (None, 35, 128)           0         \n",
      "_________________________________________________________________\n",
      "dense_2 (Dense)              (None, 35, 1)             129       \n",
      "=================================================================\n",
      "Total params: 4,638,989\n",
      "Trainable params: 95,889\n",
      "Non-trainable params: 4,543,100\n",
      "_________________________________________________________________\n",
      "None\n",
      "Train on 16363 samples, validate on 3273 samples\n",
      "Epoch 1/10\n",
      "16363/16363 [==============================] - 7s 409us/step - loss: 6.9621 - val_loss: 2.0968\n",
      "Epoch 2/10\n",
      "16363/16363 [==============================] - 6s 340us/step - loss: 1.3338 - val_loss: 0.8606\n",
      "Epoch 3/10\n",
      "16363/16363 [==============================] - 5s 333us/step - loss: 0.7210 - val_loss: 0.5937\n",
      "Epoch 4/10\n",
      "16363/16363 [==============================] - 5s 297us/step - loss: 0.5677 - val_loss: 0.4818\n",
      "Epoch 5/10\n",
      "16363/16363 [==============================] - 5s 303us/step - loss: 0.4991 - val_loss: 0.4510\n",
      "Epoch 6/10\n",
      "16363/16363 [==============================] - 5s 290us/step - loss: 0.4681 - val_loss: 0.4185\n",
      "Epoch 7/10\n",
      "16363/16363 [==============================] - 5s 290us/step - loss: 0.4374 - val_loss: 0.4975\n",
      "Epoch 8/10\n",
      "16363/16363 [==============================] - 5s 302us/step - loss: 0.4190 - val_loss: 0.3690\n",
      "Epoch 9/10\n",
      "16363/16363 [==============================] - 5s 288us/step - loss: 0.4067 - val_loss: 0.3650\n",
      "Epoch 10/10\n",
      "16363/16363 [==============================] - 5s 324us/step - loss: 0.3835 - val_loss: 0.3446\n",
      "3273/3273 [==============================] - 1s 222us/step\n",
      "0.3446290671115179\n"
     ]
    }
   ],
   "source": [
    "#not stateful\\\n",
    "import tensorflow.keras\n",
    "import keras_self_attention \n",
    "import keras\n",
    "from keras_self_attention import SeqSelfAttention \n",
    "from keras.layers import Activation, Dropout, Flatten, Dense, Conv2D, MaxPooling2D,Embedding,LSTM,Bidirectional\n",
    "X_train1, X_test1, y_train1, y_test1 = train_test_split(X_train, Y_train, test_size=0.20, random_state=42)\n",
    "model1 = keras.Sequential()\n",
    "embedding_layer = Embedding(vocab_size, 100, weights=[embedding_matrix], input_length=maxlen , trainable=False)\n",
    "model1.add(embedding_layer)\n",
    "model1.add(Dropout(0.2))\n",
    "model1.add((Dense(35, activation='relu')))\n",
    "#model1.add(Bidirectional(LSTM(128 ,input_shape=(maxlen,50),return_sequences=True)))\n",
    "model1.add(LSTM(128,input_shape=(maxlen,100), return_sequences=True))\n",
    "model1.add(SeqSelfAttention(attention_activation='sigmoid'))\n",
    "#model1.add(Reshape((128,maxlen, 1)))\n",
    "model1.add(Dropout(0.2))\n",
    "model1.add((Dense(1, activation='sigmoid')))\n",
    "model1.compile(optimizer='adam', loss=jaccard_distance)\n",
    "print(model1.summary())\n",
    "\n",
    "Y_train = Y_train.reshape(Y_train.shape[0], Y_train.shape[1], 1)\n",
    "y_test1 = y_test1.reshape(y_test1.shape[0], y_test1.shape[1], 1)\n",
    "#history = model1.fit(X_train1, y_train1, batch_size=128, epochs=15, verbose=1, validation_data=(X_test1, y_test1))\n",
    "history = model1.fit(X_train, Y_train, batch_size=128, epochs=10, verbose=1, validation_data=(X_test1, y_test1))\n",
    "score = model1.evaluate(X_test1, y_test1, verbose=1)\n",
    "print(score)"
   ]
  },
  {
   "cell_type": "code",
   "execution_count": 19,
   "metadata": {},
   "outputs": [],
   "source": [
    "def postprocessing1(res2):\n",
    "  resres2=np.zeros((res2.shape))\n",
    "  i=0\n",
    "  for item in res2:\n",
    "    arr=np.where(item==True)[0]\n",
    "    length=len(np.where(item==True)[0])\n",
    "    if length >0:\n",
    "      first=arr[0]\n",
    "      last=arr[length-1]\n",
    "      for j in range(first,last+1):\n",
    "        resres2[i][j]=1\n",
    "    i=i+1\n",
    "  return resres2\n",
    "\n",
    "def postprocessing1_1(res2):\n",
    "  resres2=np.zeros((res2.shape))\n",
    "  i=0\n",
    "  for item in res2:\n",
    "    arr=np.where(item==True)[0]\n",
    "    length=len(np.where(item==True)[0])\n",
    "    if length >0:\n",
    "      first=arr[0]\n",
    "      last=arr[length-1]\n",
    "      for item2 in arr:\n",
    "        resres2[i][item2]=1\n",
    "    i=i+1\n",
    "  return resres2\n",
    "\n",
    "\n",
    "def postprocessing2(X_TEST,TEST_SENTIMENT,RES_Y_TEST):\n",
    "  X_submission=np.copy(X_TEST)\n",
    "  i=0\n",
    "  for item in RES_Y_TEST:\n",
    "    if TEST_SENTIMENT[i]!=0:\n",
    "      j=0\n",
    "      for word in item:\n",
    "        if word==0 and X_TEST[i][j]!=0:\n",
    "          X_submission[i][j]=0 \n",
    "        j=j+1\n",
    "    i=i+1\n",
    "  return X_submission"
   ]
  },
  {
   "cell_type": "code",
   "execution_count": 20,
   "metadata": {},
   "outputs": [
    {
     "name": "stdout",
     "output_type": "stream",
     "text": [
      "mean 0.30176932343893503\n"
     ]
    }
   ],
   "source": [
    "y_pred=model1.predict(X_test1)\n",
    "res=y_pred>0.5\n",
    "res=postprocessing1(res)\n",
    "jac_des=jaccard_score(res,y_test1)\n",
    "print(\"mean\",np.mean(jac_des))\n"
   ]
  },
  {
   "cell_type": "code",
   "execution_count": 21,
   "metadata": {},
   "outputs": [],
   "source": [
    "X_test_temp=(test_original['Text_Sequences_padded'])\n",
    "X_TEST=np.array([np.array(xi) for xi in X_test_temp])\n",
    "Y_test_temp=test_original['sentiment']\n",
    "TEST_SENTIMENT=np.array([np.array(xi) for xi in Y_test_temp])\n",
    "Y_TEST=model1.predict(X_TEST)\n",
    "RES_Y_TEST=Y_TEST>0.5\n",
    "RES_Y_TEST=postprocessing1_1(RES_Y_TEST)\n",
    "X_submission=postprocessing2(X_TEST,TEST_SENTIMENT,RES_Y_TEST)\n",
    "X_submission_text=tokenizer.sequences_to_texts(X_submission)\n",
    "#X_submission_text"
   ]
  },
  {
   "cell_type": "code",
   "execution_count": 22,
   "metadata": {},
   "outputs": [],
   "source": [
    "i=0\n",
    "for item in TEST_SENTIMENT:\n",
    "  if item==0:\n",
    "    X_submission_text[i]=test_original['text'][i]\n",
    "  i=i+1"
   ]
  },
  {
   "cell_type": "code",
   "execution_count": 23,
   "metadata": {},
   "outputs": [],
   "source": [
    "from pandas import DataFrame\n",
    "df = DataFrame({'textID': test_original['textID'], 'selected_text': X_submission_text})\n",
    "df.to_csv('submission.csv', index=False)"
   ]
  }
 ],
 "metadata": {
  "kernelspec": {
   "display_name": "Python 3",
   "language": "python",
   "name": "python3"
  },
  "language_info": {
   "codemirror_mode": {
    "name": "ipython",
    "version": 3
   },
   "file_extension": ".py",
   "mimetype": "text/x-python",
   "name": "python",
   "nbconvert_exporter": "python",
   "pygments_lexer": "ipython3",
   "version": "3.7.6"
  }
 },
 "nbformat": 4,
 "nbformat_minor": 4
}
